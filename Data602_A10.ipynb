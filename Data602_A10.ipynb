{
 "cells": [
  {
   "cell_type": "markdown",
   "id": "494ea6e1",
   "metadata": {},
   "source": [
    "# Homework 10\n",
    "## By Vyanna Hill"
   ]
  },
  {
   "cell_type": "markdown",
   "id": "2f89ff09",
   "metadata": {},
   "source": [
    "### Intro to Plotly\n",
    "\n",
    "Looking into ploply, it is another data visualization library like matplotlib or seaborn. One special abilitly plotly  has is its own datasets to use and learn. When it comes to the visualization aspect, plotply has more interactive features where users can hover over the plot for specific details. If this was work project, plotply would be the best library for interal presentations as the team can pinpoint more data than others. If the audience was larger (i.e involving clients) or a strict time restraint, it may be more \n",
    "\n",
    "For this week's assignment, there will be four graphs for the closest match to the examples in the homework."
   ]
  },
  {
   "cell_type": "code",
   "execution_count": 1,
   "id": "9cb7d864",
   "metadata": {},
   "outputs": [],
   "source": [
    "#From the Assigment template\n",
    "import plotly.express as px\n",
    "\n",
    "#Thanks Juan for the tip in the slack channel to load plotly figures in github!\n",
    "import plotly.io as pio\n",
    "pio.renderers.default = \"iframe\"\n",
    "\n",
    "df = px.data.tips()"
   ]
  },
  {
   "cell_type": "markdown",
   "id": "8ea93611",
   "metadata": {},
   "source": [
    "### Bar Graph\n",
    "\n",
    "For creating bar graphs, we will use px.bar function to create one. Like the previous libraries, we can breakout our bar by a grouping like \"hue\" with the color distiction. For the example below, we specific to group the bars by if the person is a smoker. Let's say there are mutliple values that we want to see unstack, then we will use the barmode distinction with \"group\" to unstack all the variables.\n"
   ]
  },
  {
   "cell_type": "code",
   "execution_count": 6,
   "id": "075c3dd0",
   "metadata": {},
   "outputs": [
    {
     "data": {
      "text/html": [
       "<iframe\n",
       "    scrolling=\"no\"\n",
       "    width=\"100%\"\n",
       "    height=\"545px\"\n",
       "    src=\"iframe_figures/figure_6.html\"\n",
       "    frameborder=\"0\"\n",
       "    allowfullscreen\n",
       "></iframe>\n"
      ]
     },
     "metadata": {},
     "output_type": "display_data"
    },
    {
     "data": {
      "text/html": [
       "<iframe\n",
       "    scrolling=\"no\"\n",
       "    width=\"100%\"\n",
       "    height=\"545px\"\n",
       "    src=\"iframe_figures/figure_6.html\"\n",
       "    frameborder=\"0\"\n",
       "    allowfullscreen\n",
       "></iframe>\n"
      ]
     },
     "metadata": {},
     "output_type": "display_data"
    }
   ],
   "source": [
    "#Let's use .bar and specifiying the color to be if the person is a smoker\n",
    "f=px.bar(df,x=\"sex\",y=\"total_bill\",color=\"smoker\")\n",
    "f.show()\n",
    "\n",
    "#viewing if the day of the week boosts the # of bills, unstack the days by using barmode\n",
    "px.bar(df,x=\"sex\",y=\"total_bill\",color=\"day\",barmode=\"group\")\n"
   ]
  },
  {
   "cell_type": "markdown",
   "id": "51cb4941",
   "metadata": {},
   "source": [
    "### Scatter Plot\n",
    "\n",
    "Like mention above, a bonus of plotly is the ability to view a specific data point. For our scatterplot, the assigment graph appears to be a sub plot scatter of tips and total bills broken out by sex. For subplots, we can use the distinction facet_col to create subplots based on a value like sex.\n",
    "\n",
    "Inorder to re-create that linear regression line in the assigment sample, we will use the trendline with the oridnary least sqaures function. There are mutliple options of trendlines available, but we will stick with oridnary least sqaures.\n"
   ]
  },
  {
   "cell_type": "code",
   "execution_count": 3,
   "id": "56d3d36e",
   "metadata": {},
   "outputs": [
    {
     "data": {
      "text/html": [
       "<iframe\n",
       "    scrolling=\"no\"\n",
       "    width=\"100%\"\n",
       "    height=\"545px\"\n",
       "    src=\"iframe_figures/figure_3.html\"\n",
       "    frameborder=\"0\"\n",
       "    allowfullscreen\n",
       "></iframe>\n"
      ]
     },
     "metadata": {},
     "output_type": "display_data"
    },
    {
     "data": {
      "text/html": [
       "<iframe\n",
       "    scrolling=\"no\"\n",
       "    width=\"100%\"\n",
       "    height=\"545px\"\n",
       "    src=\"iframe_figures/figure_3.html\"\n",
       "    frameborder=\"0\"\n",
       "    allowfullscreen\n",
       "></iframe>\n"
      ]
     },
     "metadata": {},
     "output_type": "display_data"
    },
    {
     "data": {
      "text/html": [
       "<iframe\n",
       "    scrolling=\"no\"\n",
       "    width=\"100%\"\n",
       "    height=\"545px\"\n",
       "    src=\"iframe_figures/figure_3.html\"\n",
       "    frameborder=\"0\"\n",
       "    allowfullscreen\n",
       "></iframe>\n"
      ]
     },
     "metadata": {},
     "output_type": "display_data"
    }
   ],
   "source": [
    "#use facet_plot to make subpolots by a value\n",
    "ff=px.scatter(df,x=\"total_bill\",y=\"tip\",color=\"smoker\",facet_col=\"sex\")\n",
    "ff.show()\n",
    "\n",
    "#we can add in a best fit line with treadline\n",
    "fff=px.scatter(df,x=\"total_bill\",y=\"tip\",color=\"sex\",facet_col=\"smoker\",trendline=\"ols\")\n",
    "fff.show()\n",
    "\n",
    "#subplots by day and a row subplot by time\n",
    "px.scatter(df,x=\"total_bill\",y=\"tip\",facet_col=\"day\",facet_row=\"time\")"
   ]
  },
  {
   "cell_type": "markdown",
   "id": "6db7561f",
   "metadata": {},
   "source": [
    "### Histogram\n",
    "\n",
    "The distribution visual is created by the marignal distiction. Now, the histogram distribution can be seen above the plot to show the closet of the tip counts."
   ]
  },
  {
   "cell_type": "code",
   "execution_count": 4,
   "id": "093173a4",
   "metadata": {},
   "outputs": [
    {
     "data": {
      "text/html": [
       "<iframe\n",
       "    scrolling=\"no\"\n",
       "    width=\"100%\"\n",
       "    height=\"545px\"\n",
       "    src=\"iframe_figures/figure_4.html\"\n",
       "    frameborder=\"0\"\n",
       "    allowfullscreen\n",
       "></iframe>\n"
      ]
     },
     "metadata": {},
     "output_type": "display_data"
    }
   ],
   "source": [
    "# use .histogram and marignal rug to show the count distribution\n",
    "px.histogram(df,x=\"tip\",marginal=\"rug\")"
   ]
  },
  {
   "cell_type": "markdown",
   "id": "b1e66867",
   "metadata": {},
   "source": [
    "### Boxplot\n",
    "\n",
    "For the boxplot below, we can use the same distinctions we played with the other graphs."
   ]
  },
  {
   "cell_type": "code",
   "execution_count": 5,
   "id": "60171ba1",
   "metadata": {},
   "outputs": [
    {
     "data": {
      "text/html": [
       "<iframe\n",
       "    scrolling=\"no\"\n",
       "    width=\"100%\"\n",
       "    height=\"545px\"\n",
       "    src=\"iframe_figures/figure_5.html\"\n",
       "    frameborder=\"0\"\n",
       "    allowfullscreen\n",
       "></iframe>\n"
      ]
     },
     "metadata": {},
     "output_type": "display_data"
    }
   ],
   "source": [
    "#use .box and .color to see tip range\n",
    "px.box(df,x=\"smoker\",y=\"tip\", color=\"smoker\")"
   ]
  }
 ],
 "metadata": {
  "kernelspec": {
   "display_name": "Python 3 (ipykernel)",
   "language": "python",
   "name": "python3"
  },
  "language_info": {
   "codemirror_mode": {
    "name": "ipython",
    "version": 3
   },
   "file_extension": ".py",
   "mimetype": "text/x-python",
   "name": "python",
   "nbconvert_exporter": "python",
   "pygments_lexer": "ipython3",
   "version": "3.9.12"
  }
 },
 "nbformat": 4,
 "nbformat_minor": 5
}
