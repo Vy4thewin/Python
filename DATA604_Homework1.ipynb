{
 "cells": [
  {
   "cell_type": "markdown",
   "id": "2c528add",
   "metadata": {},
   "source": [
    "# Homework 1\n"
   ]
  },
  {
   "cell_type": "markdown",
   "id": "1475afe5",
   "metadata": {},
   "source": [
    "## By Vyanna Hill"
   ]
  },
  {
   "cell_type": "markdown",
   "id": "0d7ebf52",
   "metadata": {},
   "source": [
    "### Chapter 1"
   ]
  },
  {
   "cell_type": "code",
   "execution_count": 1,
   "id": "6947931d",
   "metadata": {},
   "outputs": [],
   "source": [
    "import numpy as np\n",
    "import pint\n",
    "from modsim import *"
   ]
  },
  {
   "cell_type": "code",
   "execution_count": 2,
   "id": "8332aff4",
   "metadata": {},
   "outputs": [],
   "source": [
    "# From Chapter 1 section, by Allen Downey\n",
    "    # Configure Jupyter so figures appear in the notebook\n",
    "    %matplotlib inline\n",
    "\n",
    "    # Configure Jupyter to display the assigned value after an assignment\n",
    "    %config InteractiveShell.ast_node_interactivity='last_expr_or_assign'"
   ]
  },
  {
   "cell_type": "code",
   "execution_count": 3,
   "id": "be27c8ea",
   "metadata": {},
   "outputs": [
    {
     "data": {
      "text/html": [
       "78.4 meter"
      ],
      "text/latex": [
       "$78.4\\ \\mathrm{meter}$"
      ],
      "text/plain": [
       "78.4 <Unit('meter')>"
      ]
     },
     "execution_count": 3,
     "metadata": {},
     "output_type": "execute_result"
    }
   ],
   "source": [
    "meter = UNITS.meter\n",
    "second = UNITS.second\n",
    "a = 9.8 * meter / second**2\n",
    "t = 4 * second\n",
    "a * t**2 / 2\n"
   ]
  },
  {
   "cell_type": "markdown",
   "id": "e56112fd",
   "metadata": {},
   "source": [
    "Exercise 1\n",
    "    It's velocity is 39.2 m/s"
   ]
  },
  {
   "cell_type": "code",
   "execution_count": 4,
   "id": "866c5de6",
   "metadata": {},
   "outputs": [
    {
     "data": {
      "text/html": [
       "39.2 meter/second"
      ],
      "text/latex": [
       "$39.2\\ \\frac{\\mathrm{meter}}{\\mathrm{second}}$"
      ],
      "text/plain": [
       "39.2 <Unit('meter / second')>"
      ]
     },
     "execution_count": 4,
     "metadata": {},
     "output_type": "execute_result"
    }
   ],
   "source": [
    "#Exercise 1\n",
    "v = a * t\n"
   ]
  },
  {
   "cell_type": "markdown",
   "id": "a0ab3a68",
   "metadata": {},
   "source": [
    "Exercise 2  \n",
    "We cannot add a and t as they are different units and will get a error for conversion"
   ]
  },
  {
   "cell_type": "code",
   "execution_count": 5,
   "id": "bc027a32",
   "metadata": {},
   "outputs": [],
   "source": [
    "#e=a+t\n"
   ]
  },
  {
   "cell_type": "code",
   "execution_count": 6,
   "id": "8f1ed097",
   "metadata": {},
   "outputs": [
    {
     "data": {
      "text/html": [
       "193.30546802805432 mile/hour"
      ],
      "text/latex": [
       "$193.30546802805432\\ \\frac{\\mathrm{mile}}{\\mathrm{hour}}$"
      ],
      "text/plain": [
       "193.30546802805432 <Unit('mile / hour')>"
      ]
     },
     "execution_count": 6,
     "metadata": {},
     "output_type": "execute_result"
    }
   ],
   "source": [
    "h = 381 * meter\n",
    "t = sqrt(2 * h / a)\n",
    "v = a * t\n",
    "mile = UNITS.mile\n",
    "hour = UNITS.hour\n",
    "v.to(mile/hour)\n",
    "\n"
   ]
  },
  {
   "cell_type": "markdown",
   "id": "4aab5f71",
   "metadata": {},
   "source": [
    "Exercise 3\n",
    "The leading metric of the equation will be the final conversion result.\n"
   ]
  },
  {
   "cell_type": "code",
   "execution_count": 7,
   "id": "7956a6fc",
   "metadata": {},
   "outputs": [
    {
     "data": {
      "text/html": [
       "384.048 meter"
      ],
      "text/latex": [
       "$384.048\\ \\mathrm{meter}$"
      ],
      "text/plain": [
       "384.048 <Unit('meter')>"
      ]
     },
     "execution_count": 7,
     "metadata": {},
     "output_type": "execute_result"
    }
   ],
   "source": [
    "foot=UNITS.foot\n",
    "#Adding h to pole height will convert the results into meters\n",
    "pole_height=10*foot\n",
    "m=h+pole_height\n"
   ]
  },
  {
   "cell_type": "code",
   "execution_count": 8,
   "id": "25058f2a",
   "metadata": {},
   "outputs": [
    {
     "data": {
      "text/html": [
       "1260.0 foot"
      ],
      "text/latex": [
       "$1260.0\\ \\mathrm{foot}$"
      ],
      "text/plain": [
       "1260.0 <Unit('foot')>"
      ]
     },
     "execution_count": 8,
     "metadata": {},
     "output_type": "execute_result"
    }
   ],
   "source": [
    "#Adding pole_hieght to h will convert the results into foot\n",
    "f=pole_height+h"
   ]
  },
  {
   "cell_type": "markdown",
   "id": "e74d6947",
   "metadata": {},
   "source": [
    "Exercise 4\n",
    "1:\n",
    "    v=a*t for the velocity at accelration a and time t\n",
    "    so finding t will will change the formula to t=v/a\n",
    "    we have v as 18 m/s and our constant a. Our result is ~1.84 seconds\n"
   ]
  },
  {
   "cell_type": "code",
   "execution_count": 9,
   "id": "0c08e59d",
   "metadata": {},
   "outputs": [
    {
     "data": {
      "text/html": [
       "1.8367346938775508 second"
      ],
      "text/latex": [
       "$1.8367346938775508\\ \\mathrm{second}$"
      ],
      "text/plain": [
       "1.8367346938775508 <Unit('second')>"
      ]
     },
     "execution_count": 9,
     "metadata": {},
     "output_type": "execute_result"
    }
   ],
   "source": [
    "vel_1=18*(meter/second)\n",
    "t_1=vel_1/a"
   ]
  },
  {
   "cell_type": "markdown",
   "id": "fc24280d",
   "metadata": {},
   "source": [
    "exercise 2\n",
    "    Finding the distance during our given time t, we compute \n",
    "      h=at^2/2\n",
    "      It fell a distance of ~16.53 meters\n",
    "      "
   ]
  },
  {
   "cell_type": "code",
   "execution_count": 10,
   "id": "aa48a1e4",
   "metadata": {},
   "outputs": [
    {
     "data": {
      "text/html": [
       "16.530612244897956 meter"
      ],
      "text/latex": [
       "$16.530612244897956\\ \\mathrm{meter}$"
      ],
      "text/plain": [
       "16.530612244897956 <Unit('meter')>"
      ]
     },
     "execution_count": 10,
     "metadata": {},
     "output_type": "execute_result"
    }
   ],
   "source": [
    "distance_1=(a*t_1**2)/2\n"
   ]
  },
  {
   "cell_type": "markdown",
   "id": "b8c12afa",
   "metadata": {},
   "source": [
    "3:\n",
    "    For finding how long it will take the penny to fall the rest of the distance at a velocity f 18 m/s\n",
    "    use the velocity formula and transform into t= d/v\n",
    "    d= h - distance_1 ( what we already traveled)\n",
    "    v= 18 m/s\n",
    "    t=d/v == ~20.25 sec\n",
    "    It took aorund 20 sec to fall from the remaining distnace at a velocity of 18 m/s\n",
    "    \n",
    "    "
   ]
  },
  {
   "cell_type": "code",
   "execution_count": 11,
   "id": "9fb027fd",
   "metadata": {},
   "outputs": [
    {
     "data": {
      "text/html": [
       "20.24829931972789 second"
      ],
      "text/latex": [
       "$20.24829931972789\\ \\mathrm{second}$"
      ],
      "text/plain": [
       "20.24829931972789 <Unit('second')>"
      ]
     },
     "execution_count": 11,
     "metadata": {},
     "output_type": "execute_result"
    }
   ],
   "source": [
    "dis_diff=h-distance_1\n",
    "t_2=dis_diff/vel_1"
   ]
  },
  {
   "cell_type": "markdown",
   "id": "829485eb",
   "metadata": {},
   "source": [
    "Exercise 5\n",
    "\n",
    "After selcting Restart and Run all,Exercise 2 error will stop the other sections from displaying their outputs.\n",
    "I commented out Exercise 2 for the results I want shown."
   ]
  },
  {
   "cell_type": "code",
   "execution_count": null,
   "id": "d409a6f5",
   "metadata": {},
   "outputs": [],
   "source": []
  },
  {
   "cell_type": "markdown",
   "id": "929d31dc",
   "metadata": {},
   "source": [
    "### Chapter 2\n"
   ]
  },
  {
   "cell_type": "code",
   "execution_count": 12,
   "id": "892887be",
   "metadata": {},
   "outputs": [],
   "source": [
    "#From Chapter 2, Allen Downey\n",
    "    # import functions from the modsim library\n",
    "    from modsim import *\n",
    "    \n",
    "    # set the random number generator\n",
    "    np.random.seed(7)\n",
    "\n",
    "    # If this cell runs successfully, it produces no output."
   ]
  },
  {
   "cell_type": "markdown",
   "id": "6a4e5ba6",
   "metadata": {},
   "source": [
    "Exercise 1\n",
    "If you mispell the varaible and call it, it will result in a error of a unknown function"
   ]
  },
  {
   "cell_type": "code",
   "execution_count": 14,
   "id": "b3487ea8",
   "metadata": {},
   "outputs": [
    {
     "data": {
      "text/plain": [
       "2"
      ]
     },
     "execution_count": 14,
     "metadata": {},
     "output_type": "execute_result"
    }
   ],
   "source": [
    "bikeshare = State(olin=10, wellesley=2)\n",
    "bikeshare.wellesley\n",
    "#Will trigger a error if un-commented\n",
    "#bikeshare.welleeeesley\n"
   ]
  },
  {
   "cell_type": "markdown",
   "id": "7501cee2",
   "metadata": {},
   "source": [
    "Exercise 2\n",
    "    After we intialized the attribute babson, the attribute will display zero when its called."
   ]
  },
  {
   "cell_type": "code",
   "execution_count": 15,
   "id": "39846bd7",
   "metadata": {},
   "outputs": [
    {
     "data": {
      "text/plain": [
       "0"
      ]
     },
     "execution_count": 15,
     "metadata": {},
     "output_type": "execute_result"
    }
   ],
   "source": [
    "bikeshare = State(olin=10, wellesley=2,babson=0)\n",
    "bikeshare.babson\n"
   ]
  },
  {
   "cell_type": "code",
   "execution_count": 16,
   "id": "e39c9868",
   "metadata": {},
   "outputs": [
    {
     "data": {
      "text/html": [
       "<div>\n",
       "<style scoped>\n",
       "    .dataframe tbody tr th:only-of-type {\n",
       "        vertical-align: middle;\n",
       "    }\n",
       "\n",
       "    .dataframe tbody tr th {\n",
       "        vertical-align: top;\n",
       "    }\n",
       "\n",
       "    .dataframe thead th {\n",
       "        text-align: right;\n",
       "    }\n",
       "</style>\n",
       "<table border=\"1\" class=\"dataframe\">\n",
       "  <thead>\n",
       "    <tr style=\"text-align: right;\">\n",
       "      <th></th>\n",
       "      <th>values</th>\n",
       "    </tr>\n",
       "  </thead>\n",
       "  <tbody>\n",
       "    <tr>\n",
       "      <th>olin</th>\n",
       "      <td>9</td>\n",
       "    </tr>\n",
       "    <tr>\n",
       "      <th>wellesley</th>\n",
       "      <td>3</td>\n",
       "    </tr>\n",
       "    <tr>\n",
       "      <th>babson</th>\n",
       "      <td>0</td>\n",
       "    </tr>\n",
       "  </tbody>\n",
       "</table>\n",
       "</div>"
      ],
      "text/plain": [
       "olin         9\n",
       "wellesley    3\n",
       "babson       0\n",
       "dtype: int64"
      ]
     },
     "execution_count": 16,
     "metadata": {},
     "output_type": "execute_result"
    }
   ],
   "source": [
    "def bike_to_wellesley():\n",
    "    bikeshare.olin -= 1\n",
    "    bikeshare.wellesley += 1\n",
    "bike_to_wellesley()\n",
    "bikeshare"
   ]
  },
  {
   "cell_type": "markdown",
   "id": "37042e76",
   "metadata": {},
   "source": [
    "Exercise 3\n",
    "We created the function bike to olin\n",
    "    it removes one bike from wellesly and adds it to olin\n",
    "    "
   ]
  },
  {
   "cell_type": "code",
   "execution_count": 17,
   "id": "c7498f3a",
   "metadata": {},
   "outputs": [
    {
     "data": {
      "text/html": [
       "<div>\n",
       "<style scoped>\n",
       "    .dataframe tbody tr th:only-of-type {\n",
       "        vertical-align: middle;\n",
       "    }\n",
       "\n",
       "    .dataframe tbody tr th {\n",
       "        vertical-align: top;\n",
       "    }\n",
       "\n",
       "    .dataframe thead th {\n",
       "        text-align: right;\n",
       "    }\n",
       "</style>\n",
       "<table border=\"1\" class=\"dataframe\">\n",
       "  <thead>\n",
       "    <tr style=\"text-align: right;\">\n",
       "      <th></th>\n",
       "      <th>values</th>\n",
       "    </tr>\n",
       "  </thead>\n",
       "  <tbody>\n",
       "    <tr>\n",
       "      <th>olin</th>\n",
       "      <td>10</td>\n",
       "    </tr>\n",
       "    <tr>\n",
       "      <th>wellesley</th>\n",
       "      <td>2</td>\n",
       "    </tr>\n",
       "    <tr>\n",
       "      <th>babson</th>\n",
       "      <td>0</td>\n",
       "    </tr>\n",
       "  </tbody>\n",
       "</table>\n",
       "</div>"
      ],
      "text/plain": [
       "olin         10\n",
       "wellesley     2\n",
       "babson        0\n",
       "dtype: int64"
      ]
     },
     "execution_count": 17,
     "metadata": {},
     "output_type": "execute_result"
    }
   ],
   "source": [
    "def bike_to_olin():\n",
    "    bikeshare.olin+=1\n",
    "    bikeshare.wellesley-=1\n",
    "bike_to_olin()\n",
    "bikeshare"
   ]
  },
  {
   "cell_type": "markdown",
   "id": "df894869",
   "metadata": {},
   "source": [
    "Exercise 4\n",
    "    Those are the p values I expected, as the print statement made no sigificant difference in the function.\n",
    "    "
   ]
  },
  {
   "cell_type": "code",
   "execution_count": 21,
   "id": "edf7dcc6",
   "metadata": {},
   "outputs": [
    {
     "name": "stdout",
     "output_type": "stream",
     "text": [
      "0.3\n",
      "0.2\n",
      "Moving a bike to Olin\n"
     ]
    },
    {
     "data": {
      "text/html": [
       "<div>\n",
       "<style scoped>\n",
       "    .dataframe tbody tr th:only-of-type {\n",
       "        vertical-align: middle;\n",
       "    }\n",
       "\n",
       "    .dataframe tbody tr th {\n",
       "        vertical-align: top;\n",
       "    }\n",
       "\n",
       "    .dataframe thead th {\n",
       "        text-align: right;\n",
       "    }\n",
       "</style>\n",
       "<table border=\"1\" class=\"dataframe\">\n",
       "  <thead>\n",
       "    <tr style=\"text-align: right;\">\n",
       "      <th></th>\n",
       "      <th>values</th>\n",
       "    </tr>\n",
       "  </thead>\n",
       "  <tbody>\n",
       "    <tr>\n",
       "      <th>olin</th>\n",
       "      <td>11</td>\n",
       "    </tr>\n",
       "    <tr>\n",
       "      <th>wellesley</th>\n",
       "      <td>1</td>\n",
       "    </tr>\n",
       "  </tbody>\n",
       "</table>\n",
       "</div>"
      ],
      "text/plain": [
       "olin         11\n",
       "wellesley     1\n",
       "dtype: int64"
      ]
     },
     "execution_count": 21,
     "metadata": {},
     "output_type": "execute_result"
    }
   ],
   "source": [
    "bikeshare = State(olin=10, wellesley=2)\n",
    "\n",
    "def step(p1, p2):\n",
    "    print(p1)\n",
    "    print(p2)\n",
    "    if flip(p1):\n",
    "        bike_to_wellesley()\n",
    "        print('Moving a bike to Wellesley')\n",
    "        \n",
    "    if flip(p2):\n",
    "        bike_to_olin()\n",
    "        print('Moving a bike to Olin')\n",
    "        \n",
    "step(0.3, 0.2)\n",
    "bikeshare"
   ]
  },
  {
   "cell_type": "markdown",
   "id": "10e4072c",
   "metadata": {},
   "source": [
    "Exercise 5\n",
    "    "
   ]
  },
  {
   "cell_type": "code",
   "execution_count": 34,
   "id": "8d0bc6ab",
   "metadata": {},
   "outputs": [
    {
     "data": {
      "image/png": "[encoded data removed]",
      "text/plain": [
       "<Figure size 432x288 with 1 Axes>"
      ]
     },
     "metadata": {
      "needs_background": "light"
     },
     "output_type": "display_data"
    }
   ],
   "source": [
    "def run_simulation (p1,p2,num_steps):\n",
    "    results = TimeSeries()\n",
    "    result = TimeSeries()\n",
    "\n",
    "    def step(p1, p2):\n",
    "        if flip(p1):\n",
    "            bike_to_wellesley()\n",
    "\n",
    "        if flip(p2):\n",
    "            bike_to_olin()  \n",
    "    for i in range(num_steps):\n",
    "        step(p1, p2)\n",
    "        results[i] = bikeshare.olin\n",
    "        \n",
    "    plot(results,label='Olin')\n",
    "\n",
    "    decorate(title='Olin-Wellesley Bikeshare',\n",
    "         xlabel='Time step (min)', \n",
    "         ylabel='Number of bikes')\n",
    "    \n",
    "bikeshare = State(olin=5, wellesley=10) \n",
    "run_simulation(0.2,0.8,10)"
   ]
  },
  {
   "cell_type": "markdown",
   "id": "fc05b883",
   "metadata": {},
   "source": [
    "### Chapter 3\n"
   ]
  },
  {
   "cell_type": "markdown",
   "id": "7cc6d1be",
   "metadata": {},
   "source": [
    "Exercise 1\n",
    "    The if else statement prints as expected"
   ]
  },
  {
   "cell_type": "code",
   "execution_count": 39,
   "id": "84bb3189",
   "metadata": {},
   "outputs": [
    {
     "name": "stdout",
     "output_type": "stream",
     "text": [
      "yes, x is 5\n"
     ]
    }
   ],
   "source": [
    "x=5\n",
    "if x == 5:\n",
    "    print('yes, x is 5')\n",
    "elif x>5:\n",
    "    print('No, x is not 5 but its greater than 5')\n",
    "elif x<5:\n",
    "    print(\"No, x is not 5 but it's less than 5\")\n",
    "else:\n",
    "    print('No, x is not 5')"
   ]
  },
  {
   "cell_type": "markdown",
   "id": "92d572d8",
   "metadata": {},
   "source": [
    "Exercise 2"
   ]
  },
  {
   "cell_type": "code",
   "execution_count": 40,
   "id": "a8ed467b",
   "metadata": {},
   "outputs": [
    {
     "data": {
      "image/png": "[encoded data removed]",
      "text/plain": [
       "<Figure size 432x288 with 1 Axes>"
      ]
     },
     "metadata": {
      "needs_background": "light"
     },
     "output_type": "display_data"
    }
   ],
   "source": [
    "def step(state, p1, p2):\n",
    "    if flip(p1):\n",
    "        bike_to_wellesley(state)\n",
    "    \n",
    "    if flip(p2):\n",
    "        bike_to_olin(state)\n",
    "        \n",
    "def bike_to_wellesley(state):\n",
    "    if state.olin == 0:\n",
    "        state.olin_empty += 1\n",
    "        state.clock+=1\n",
    "        return\n",
    "    state.olin -= 1\n",
    "    state.wellesley += 1\n",
    "    \n",
    "def bike_to_olin(state):\n",
    "    if state.wellesley == 0:\n",
    "        state.wellesley_empty += 1\n",
    "        state.clock+=1\n",
    "        return\n",
    "    state.wellesley -= 1\n",
    "    state.olin += 1\n",
    "    \n",
    "def decorate_bikeshare():\n",
    "    \"\"\"Add a title and label the axes.\"\"\"\n",
    "    decorate(title='Olin-Wellesley Bikeshare',\n",
    "             xlabel='Time step (min)', \n",
    "             ylabel='Number of bikes')\n",
    "def run_simulation(state, p1, p2, num_steps):\n",
    "    results = TimeSeries()    \n",
    "    for i in range(num_steps):\n",
    "        step(state, p1, p2)\n",
    "        results[i] = state.olin\n",
    "        \n",
    "    plot(results, label='Olin') \n",
    "    \n",
    "bikeshare = State(olin=10, wellesley=2,olin_empty=0, wellesley_empty=0,clock=0)\n",
    "run_simulation(bikeshare, 0.4, 0.2, 60)\n",
    "bikeshare.clock\n",
    "decorate_bikeshare()\n",
    "    "
   ]
  },
  {
   "cell_type": "code",
   "execution_count": 41,
   "id": "9d85834c",
   "metadata": {},
   "outputs": [
    {
     "data": {
      "text/plain": [
       "3"
      ]
     },
     "execution_count": 41,
     "metadata": {},
     "output_type": "execute_result"
    }
   ],
   "source": [
    "bikeshare.clock\n",
    "\n"
   ]
  },
  {
   "cell_type": "markdown",
   "id": "874ea7d5",
   "metadata": {},
   "source": [
    "Exercise 4"
   ]
  },
  {
   "cell_type": "code",
   "execution_count": 68,
   "id": "96e8edb2",
   "metadata": {},
   "outputs": [
    {
     "data": {
      "text/html": [
       "<div>\n",
       "<style scoped>\n",
       "    .dataframe tbody tr th:only-of-type {\n",
       "        vertical-align: middle;\n",
       "    }\n",
       "\n",
       "    .dataframe tbody tr th {\n",
       "        vertical-align: top;\n",
       "    }\n",
       "\n",
       "    .dataframe thead th {\n",
       "        text-align: right;\n",
       "    }\n",
       "</style>\n",
       "<table border=\"1\" class=\"dataframe\">\n",
       "  <thead>\n",
       "    <tr style=\"text-align: right;\">\n",
       "      <th></th>\n",
       "      <th>values</th>\n",
       "    </tr>\n",
       "  </thead>\n",
       "  <tbody>\n",
       "    <tr>\n",
       "      <th>olin</th>\n",
       "      <td>0</td>\n",
       "    </tr>\n",
       "    <tr>\n",
       "      <th>wellesley</th>\n",
       "      <td>12</td>\n",
       "    </tr>\n",
       "    <tr>\n",
       "      <th>olin_empty</th>\n",
       "      <td>0</td>\n",
       "    </tr>\n",
       "    <tr>\n",
       "      <th>wellesley_empty</th>\n",
       "      <td>1</td>\n",
       "    </tr>\n",
       "    <tr>\n",
       "      <th>clock</th>\n",
       "      <td>1</td>\n",
       "    </tr>\n",
       "    <tr>\n",
       "      <th>t_first_empty</th>\n",
       "      <td>1</td>\n",
       "    </tr>\n",
       "  </tbody>\n",
       "</table>\n",
       "</div>"
      ],
      "text/plain": [
       "olin                0\n",
       "wellesley          12\n",
       "olin_empty          0\n",
       "wellesley_empty     1\n",
       "clock               1\n",
       "t_first_empty       1\n",
       "dtype: int64"
      ]
     },
     "execution_count": 68,
     "metadata": {},
     "output_type": "execute_result"
    },
    {
     "data": {
      "image/png": "[encoded data removed]",
      "text/plain": [
       "<Figure size 432x288 with 1 Axes>"
      ]
     },
     "metadata": {
      "needs_background": "light"
     },
     "output_type": "display_data"
    }
   ],
   "source": [
    "def step(state, p1, p2):\n",
    "    if flip(p1):\n",
    "        bike_to_wellesley(state)\n",
    "    \n",
    "    if flip(p2):\n",
    "        bike_to_olin(state)\n",
    "    \n",
    "        \n",
    "        \n",
    "def bike_to_wellesley(state):\n",
    "    if state.olin == 0:\n",
    "        if state.wellesley_empty==0 and state.olin_empty==0:\n",
    "            state.wellesley_empty += 1\n",
    "            state.clock+=1\n",
    "            state.t_first_empty=state.clock\n",
    "            return \n",
    "        state.olin_empty += 1\n",
    "        state.clock+=1\n",
    "        return\n",
    "    state.olin -= 1\n",
    "    state.wellesley += 1    \n",
    "def bike_to_olin(state):\n",
    "    if state.wellesley == 0:\n",
    "        if state.wellesley_empty==0 and state.olin_empty==0:\n",
    "            state.wellesley_empty += 1\n",
    "            state.clock+=1\n",
    "            state.t_first_empty=state.clock\n",
    "            return\n",
    "        state.wellesley_empty += 1\n",
    "        state.clock+=1\n",
    "        return\n",
    "    state.wellesley -= 1\n",
    "    state.olin += 1\n",
    "    \n",
    "def decorate_bikeshare():\n",
    "    \"\"\"Add a title and label the axes.\"\"\"\n",
    "    decorate(title='Olin-Wellesley Bikeshare',\n",
    "             xlabel='Time step (min)', \n",
    "             ylabel='Number of bikes')\n",
    "def run_simulation(state, p1, p2, num_steps):\n",
    "    results = TimeSeries()    \n",
    "    for i in range(num_steps):\n",
    "        step(state, p1, p2)\n",
    "        results[i] = state.olin\n",
    "        \n",
    "    plot(results, label='Olin') \n",
    "    \n",
    "bikeshare = State(olin=10, wellesley=2,olin_empty=0, wellesley_empty=0,clock=0,t_first_empty=-1)\n",
    "run_simulation(bikeshare, 0.4, 0.2, 60)\n",
    "bikeshare\n"
   ]
  },
  {
   "cell_type": "code",
   "execution_count": null,
   "id": "bc349298",
   "metadata": {},
   "outputs": [],
   "source": []
  },
  {
   "cell_type": "code",
   "execution_count": null,
   "id": "5a7a9472",
   "metadata": {},
   "outputs": [],
   "source": []
  }
 ],
 "metadata": {
  "kernelspec": {
   "display_name": "Python 3 (ipykernel)",
   "language": "python",
   "name": "python3"
  },
  "language_info": {
   "codemirror_mode": {
    "name": "ipython",
    "version": 3
   },
   "file_extension": ".py",
   "mimetype": "text/x-python",
   "name": "python",
   "nbconvert_exporter": "python",
   "pygments_lexer": "ipython3",
   "version": "3.9.12"
  }
 },
 "nbformat": 4,
 "nbformat_minor": 5
}
