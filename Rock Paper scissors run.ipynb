{
 "cells": [
  {
   "cell_type": "code",
   "execution_count": 7,
   "id": "6a948903",
   "metadata": {},
   "outputs": [],
   "source": [
    "import random\n",
    "from modsim import *\n"
   ]
  },
  {
   "cell_type": "code",
   "execution_count": 50,
   "id": "70f78fbf",
   "metadata": {},
   "outputs": [],
   "source": [
    "def RPS_sim(state,ans):\n",
    "    moves=[\"rock\",\"paper\",\"scissor\"]\n",
    "    machine_choice=random.choice(moves)\n",
    "    if ans ==\"rock\":\n",
    "        if machine_choice == \"rock\":\n",
    "            return\n",
    "        elif machine_choice ==\"paper\":\n",
    "            # Machine wins\n",
    "            state.losses+=1\n",
    "            return\n",
    "        else:\n",
    "            #player wins\n",
    "            state.wins+=1\n",
    "            return\n",
    "    elif ans==\"scissor\":\n",
    "        if machine_choice == \"rock\":\n",
    "            state.losses+=1\n",
    "            return\n",
    "        elif machine_choice ==\"paper\":\n",
    "            state.wins+=1\n",
    "            return\n",
    "        else:\n",
    "            return\n",
    "    elif ans==\"paper\":\n",
    "        if machine_choice == \"rock\":\n",
    "            state.wins+=1\n",
    "            return\n",
    "        elif machine_choice ==\"paper\":\n",
    "            return\n",
    "        else:\n",
    "            state.losses+=1\n",
    "            return\n",
    "    else:\n",
    "        return\n",
    "\n",
    "def run_sim(state,an):\n",
    "    results = TimeSeries()    \n",
    "    for i in range(1000):\n",
    "        RPS_sim(state,an)\n",
    "        results[i]=state.wins\n",
    "\n",
    "moves=[\"rock\",\"paper\",\"scissor\"]\n",
    "player_choice=random.choice(moves)\n",
    "   \n",
    "player=State(wins=0,losses=0 )\n",
    "run_sim(player,player_choice)\n",
    "\n"
   ]
  },
  {
   "cell_type": "code",
   "execution_count": 51,
   "id": "0bea690d",
   "metadata": {},
   "outputs": [
    {
     "data": {
      "text/html": [
       "<div>\n",
       "<style scoped>\n",
       "    .dataframe tbody tr th:only-of-type {\n",
       "        vertical-align: middle;\n",
       "    }\n",
       "\n",
       "    .dataframe tbody tr th {\n",
       "        vertical-align: top;\n",
       "    }\n",
       "\n",
       "    .dataframe thead th {\n",
       "        text-align: right;\n",
       "    }\n",
       "</style>\n",
       "<table border=\"1\" class=\"dataframe\">\n",
       "  <thead>\n",
       "    <tr style=\"text-align: right;\">\n",
       "      <th></th>\n",
       "      <th>values</th>\n",
       "    </tr>\n",
       "  </thead>\n",
       "  <tbody>\n",
       "    <tr>\n",
       "      <th>wins</th>\n",
       "      <td>345</td>\n",
       "    </tr>\n",
       "    <tr>\n",
       "      <th>losses</th>\n",
       "      <td>346</td>\n",
       "    </tr>\n",
       "  </tbody>\n",
       "</table>\n",
       "</div>"
      ],
      "text/plain": [
       "wins      345\n",
       "losses    346\n",
       "dtype: int64"
      ]
     },
     "execution_count": 51,
     "metadata": {},
     "output_type": "execute_result"
    }
   ],
   "source": [
    "player"
   ]
  },
  {
   "cell_type": "code",
   "execution_count": null,
   "id": "dc984c8b",
   "metadata": {},
   "outputs": [],
   "source": []
  }
 ],
 "metadata": {
  "kernelspec": {
   "display_name": "Python 3 (ipykernel)",
   "language": "python",
   "name": "python3"
  },
  "language_info": {
   "codemirror_mode": {
    "name": "ipython",
    "version": 3
   },
   "file_extension": ".py",
   "mimetype": "text/x-python",
   "name": "python",
   "nbconvert_exporter": "python",
   "pygments_lexer": "ipython3",
   "version": "3.9.12"
  }
 },
 "nbformat": 4,
 "nbformat_minor": 5
}
