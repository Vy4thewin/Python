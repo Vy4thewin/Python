{
 "cells": [
  {
   "cell_type": "markdown",
   "id": "b11458bf",
   "metadata": {},
   "source": [
    "# Assigment 4| Interactive Visualizations in Python\n",
    "## By Vyanna Hill"
   ]
  },
  {
   "cell_type": "markdown",
   "id": "b760812e",
   "metadata": {},
   "source": [
    "### Intro to Dash\n",
    "\n",
    "In the previous module, I built a shiny app in R for users to interact with the data and select visualization for analysis. This week we will enact the same principles but in Python' Dash app. The Dash library can create apps where users can interact with the program to display the chosen app. \n",
    "\n",
    "For this week's assignment, I used Dash's documentation to help create my visualizer app and the dash jupyter documentation to enable the app inside the [notebook](https://github.com/plotly/jupyter-dash). I will go through the steps of building the app below."
   ]
  },
  {
   "cell_type": "code",
   "execution_count": 1,
   "id": "fef394dc",
   "metadata": {},
   "outputs": [],
   "source": [
    "#Loading in the libraries\n",
    "import pandas as pd\n",
    "import numpy as np\n",
    "import plotly.express as px\n",
    "from jupyter_dash import JupyterDash\n",
    "from dash import dcc\n",
    "from dash import html\n",
    "from dash.dependencies import Input, Output\n",
    "import dash_bootstrap_components as dbc"
   ]
  },
  {
   "cell_type": "markdown",
   "id": "f691f4b8",
   "metadata": {},
   "source": [
    "### Part 2| Graphing plotly\n",
    "\n",
    "From my experience in module two, My device cannot handle large data with plotly. Following the module's sample notebook, it will be wise to create a query for the needed data below. I created two versions of the data selected with SoQL. This way, the query can bypass the api limitations on data and the data grouping is eaiser on loading.\n",
    "\n",
    "The first query will contain the borough of the tree, it's specices, and the count of the health status. The second query will all of the first query's variables and the steward varible. The two query have all the necessary information asked for in assignment's questions and mindful of the size of the data. Next, we will move onto the appropirate visualization.\n",
    "\n",
    "For the first graph, we can show the proportion of trees by its health status with a bar graph. It's the most fitting visualization as we can group by borough and filter the plot by health. The second graph,it was the most confusing one to develop. First, I though of a correlation map but my variables made the plot diffcult to view/ understand. For simipilicty, we can also go with a bar graph."
   ]
  },
  {
   "cell_type": "code",
   "execution_count": 202,
   "id": "996d825e",
   "metadata": {},
   "outputs": [
    {
     "data": {
      "text/html": [
       "\n",
       "        <iframe\n",
       "            width=\"100%\"\n",
       "            height=\"650\"\n",
       "            src=\"http://127.0.0.1:8050/\"\n",
       "            frameborder=\"0\"\n",
       "            allowfullscreen\n",
       "            \n",
       "        ></iframe>\n",
       "        "
      ],
      "text/plain": [
       "<IPython.lib.display.IFrame at 0x1fbadf269a0>"
      ]
     },
     "metadata": {},
     "output_type": "display_data"
    }
   ],
   "source": [
    "#We use jupyterdash to create our app inside the notebook instead of calling a seperate file like the video example in the weekly folder\n",
    "#dbc is use for style themeing the app\n",
    "app = JupyterDash(__name__,external_stylesheets=[dbc.themes.SIMPLEX])\n",
    "\n",
    "#The front end portion resides below, all parts of our app are gather under the layout and grouped within the div statemet\n",
    "app.layout=html.Div([\n",
    "    #Using the html library, we can add in html elements for the front end of the app\n",
    "    html.H1(\"Dash| Visualization interactivity in Python\"),\n",
    "    html.H2(\"By Vyanna Hill\"),\\\n",
    "    \n",
    "    #dcc added in the option for componenments for our app\n",
    "    dcc.Dropdown(['Tree Health in NYC','Steward Activity vs Health'],'Tree Health in NYC',id=\"drop_in\"),\n",
    "\n",
    "    #Resulting graph from user's input\n",
    "    dcc.Graph(id=\"output_plot\")\n",
    "    \n",
    "])\n",
    "\n",
    "#The backend of the app, the app callback assigns variables to the inputs from the user and its outputs in the frontend\n",
    "@app.callback(\n",
    "    Output(\"output_plot\",\"figure\"),\n",
    "    Input(\"drop_in\",\"value\")\n",
    ")\n",
    "\n",
    "#funcitons below give the interactivity of the app\n",
    "#User will envoke the function once a input value is selectd\n",
    "def update_graph(value):\n",
    "    if(value==\"Tree Health in NYC\"):\n",
    "        #I created a query that selects borough name, tree species, its health grouped by count. Borrowed the sample url builder to combine it all\n",
    "        soql_url = ('https://data.cityofnewyork.us/resource/uvpi-gqnh.json?' +\\\n",
    "        '$select=boroname,spc_common,health,count(tree_id)'+\\\n",
    "        '&$group=spc_common,boroname,health&$limit=5000').replace(' ', '%20')\n",
    "        data = pd.read_json(soql_url)\n",
    "        data.dropna(inplace=True)\n",
    "        \n",
    "        #creating a bar graph with plotly, create subplots for each borough as specifiy \n",
    "        fig=px.bar(soql_trees,x=\"count_tree_id\",y=\"spc_common\",color=\"health\",facet_col=\"boroname\",orientation='h')\n",
    "        fig.for_each_xaxis(lambda x: x.update(title = ''))\n",
    "        fig.for_each_annotation(lambda a: a.update(text=a.text.split(\"=\")[-1]))\n",
    "        fig.update_layout(title=\"Proportion of NYC Trees' Health by Species\",xaxis_title=\"Tree Count\",yaxis_title=\"Tree Species\",legend_title=\"Health\")\n",
    "        return fig\n",
    "    else:\n",
    "        #Following the steps above, lets create of game plan in nycopen visualize tool and export the api url\n",
    "        soql_url=('https://data.cityofnewyork.us/resource/uvpi-gqnh.json?' +\\\n",
    "        '$select=boroname,spc_common,steward,health,count(tree_id)'+\\\n",
    "        '&$group=spc_common,boroname,steward,health&$limit=5000').replace(' ', '%20')\n",
    "        data=pd.read_json(soql_url)\n",
    "        data.dropna(inplace=True)\n",
    "\n",
    "        #creating a bar graph with plotly\n",
    "        fig=px.bar(soql_trees,x=\"count_tree_id\",y=\"spc_common\",color=\"health\",facet_col=\"steward\", facet_row=\"boroname\",orientation='h')\n",
    "\n",
    "        #each annotation line from plotly's bar documentation,remove \"=\" from the annotation. Then, remove the duplicate x/y-axis titles for formatting \n",
    "        fig.for_each_annotation(lambda a: a.update(text=a.text.split(\"=\")[-1]))\n",
    "        fig.for_each_yaxis(lambda y: y.update(title = ''))\n",
    "        fig.for_each_xaxis(lambda x: x.update(title = ''))\n",
    "        fig.update_layout(title=\"Impact of Stewards on NYC Trees\",xaxis_title=\"Tree Count\",yaxis_title=\"Tree Species\",legend_title=\"Health\")\n",
    "        return fig\n",
    "\n",
    "\n",
    "if __name__ == '__main__':\n",
    "    app.run_server(mode=\"inline\")"
   ]
  }
 ],
 "metadata": {
  "kernelspec": {
   "display_name": "Python 3 (ipykernel)",
   "language": "python",
   "name": "python3"
  },
  "language_info": {
   "codemirror_mode": {
    "name": "ipython",
    "version": 3
   },
   "file_extension": ".py",
   "mimetype": "text/x-python",
   "name": "python",
   "nbconvert_exporter": "python",
   "pygments_lexer": "ipython3",
   "version": "3.9.12"
  }
 },
 "nbformat": 4,
 "nbformat_minor": 5
}
